{
 "cells": [
  {
   "cell_type": "code",
   "execution_count": 1,
   "metadata": {},
   "outputs": [],
   "source": [
    "import json\n",
    "import torch\n",
    "import joblib\n",
    "import numpy as np\n",
    "from torch_geometric.data import Data\n"
   ]
  },
  {
   "cell_type": "markdown",
   "metadata": {},
   "source": [
    "# patient information"
   ]
  },
  {
   "cell_type": "code",
   "execution_count": null,
   "metadata": {},
   "outputs": [],
   "source": [
    "'''\n",
    "patient id list \n",
    "['TCGA-LN-A49R','TCGA-2H-A9GQ','TCGA-LN-A4A3',....]\n",
    "'''\n",
    "patients = joblib.load('patients.pkl')"
   ]
  },
  {
   "cell_type": "code",
   "execution_count": 5,
   "metadata": {},
   "outputs": [],
   "source": [
    "'''\n",
    "censorship status and observed time .\n",
    "{'TCGA-LN-A49R': [0, 13.371663244353183],\n",
    " 'TCGA-2H-A9GQ': [1, 4.205338809034908],\n",
    " 'TCGA-LN-A4A3': [0, 12.747433264887063],\n",
    " ...\n",
    " }\n",
    "'''\n",
    "sur_and_time = joblib.load('sur_and_time.pkl')"
   ]
  },
  {
   "cell_type": "code",
   "execution_count": 6,
   "metadata": {},
   "outputs": [],
   "source": [
    "patient_sur_type = {}\n",
    "for x in patients: \n",
    "    patient_sur_type[x] = sur_and_time[x][0]\n",
    "\n",
    "time = []\n",
    "patient_and_time = {}\n",
    "for x in patients:\n",
    "    time.append(sur_and_time[x][-1])\n",
    "    patient_and_time[x] = sur_and_time[x][-1]\n"
   ]
  },
  {
   "cell_type": "markdown",
   "metadata": {},
   "source": [
    "# Pretrained features for patch"
   ]
  },
  {
   "cell_type": "code",
   "execution_count": 7,
   "metadata": {},
   "outputs": [],
   "source": [
    "'''\n",
    "t_img_fea contains the pretrained features of the patch.\n",
    "\n",
    "{'TCGA-VR-A8EX': {'23-25.png': array([ 0.0958841 ,  0.0922773 ,  0.10698985, ..., -0.51396465,\n",
    "          3.0901225 , -1.7472196 ], dtype=float32),\n",
    "      '22-26.png': array([ 0.08808839,  0.10823577,  0.10959034, ...,  0.3193577 ,\n",
    "          3.0152717 , -2.3737502 ], dtype=float32),\n",
    "          ....}\n",
    " 'TCGA-LN-A4A6': {'11-7.png': array([ 0.09743017,  0.16183454,  0.03875097, ...,  0.42391908,\n",
    "          2.4486601 , -0.37408364], dtype=float32),\n",
    "      '36-16.png': array([ 0.07777312,  0.0657203 ,  0.16304843, ..., -1.218863  ,\n",
    "          0.26710236,  0.6011251 ], dtype=float32),  \n",
    "          ....}\n",
    "  ....}        \n",
    "'''\n",
    "t_img_fea = joblib.load('t_img_fea.pkl')"
   ]
  },
  {
   "cell_type": "markdown",
   "metadata": {},
   "source": [
    "# genomic profile data"
   ]
  },
  {
   "cell_type": "code",
   "execution_count": null,
   "metadata": {},
   "outputs": [],
   "source": [
    "'''\n",
    "For genomic profile, we employ GSEA to generate five genomic embeddings: \n",
    "1) Tumor Supression, 2) Oncogenesis, 3) Protein Kinases, 4) Cellular Differentiation, and 5) Cytokines and Growth.\n",
    "from https://www.gsea-msigdb.org/gsea/msigdb/gene_families.jsp?ex=1\n",
    "\n",
    "{'TCGA-LN-A49R': [[-0.4064,-1.3284, 2.637,0.0197, 0.8055,...],\n",
    "                [-0.314,-0.6875, -2.1022,-1.5837,-0.6759,...],\n",
    "                ...]\n",
    "  ...}\n",
    "  \n",
    "'''\n",
    "t_rna_fea = joblib.load('t_rna_fea.pkl')\n",
    "rna_fea_1024 = {}\n",
    "for x in patients:\n",
    "    if x in t_rna_fea:\n",
    "        tmp = []\n",
    "        for i,z in enumerate(t_rna_fea[x]):\n",
    "            u=[]\n",
    "            j=0\n",
    "            for o in z:\n",
    "                u.append(float(o))\n",
    "                j+=1\n",
    "            #all node features are aligned to 1024 dimensions by zero padding\n",
    "            for k in range(j,1024):\n",
    "                u.append(0.)\n",
    "            tmp.append(u)  \n",
    "        rna_fea_1024[x]= tmp"
   ]
  },
  {
   "cell_type": "markdown",
   "metadata": {},
   "source": [
    "# clinical records"
   ]
  },
  {
   "cell_type": "code",
   "execution_count": 13,
   "metadata": {},
   "outputs": [],
   "source": [
    "'''\n",
    "ttt_cli_feas contains the clinical records, \n",
    "discrete values give different numerical values, e.g 'male': 0 , 'female':1\n",
    "\n",
    "{'TCGA-LN-A49R': [0,1.095890410958904,46],\n",
    "'TCGA-2H-A9GQ': [0,1.7758405977584057, 80],\n",
    "...}\n",
    "'''\n",
    "ttt_cli_feas = joblib.load(\"ttt_cli_feas.pkl\")\n",
    "t_cli_feas = {}\n",
    "for x in ttt_cli_feas:\n",
    "    a=[]\n",
    "    for i in range(len(ttt_cli_feas[x])):\n",
    "            a.append(ttt_cli_feas[x][i])\n",
    "    t_cli_feas[x] = a\n",
    "    \n",
    "for i in range(10):\n",
    "    zz = []\n",
    "    for x in t_cli_feas:\n",
    "#         print(x,len(t_cli_feas[x]))\n",
    "        zz.append(t_cli_feas[x][i])\n",
    "    zz = np.array(zz)\n",
    "    maxx = np.max(zz)\n",
    "    minn = np.min(zz)\n",
    "    for x in t_cli_feas:\n",
    "        t_cli_feas[x][i] = (t_cli_feas[x][i]-(maxx+minn)/2)/(maxx-minn)*2 \n"
   ]
  },
  {
   "cell_type": "code",
   "execution_count": 15,
   "metadata": {},
   "outputs": [],
   "source": [
    "#all node features are aligned to 1024 dimensions by zero padding\n",
    "onehot_cli = {}\n",
    "for x in patients:\n",
    "    tmp=np.zeros((len(t_cli_feas[x]),1024))            \n",
    "    k=0\n",
    "    for i,z in enumerate(t_cli_feas[x]):\n",
    "            tmp[k][i]=t_cli_feas[x][i]\n",
    "            k+=1\n",
    "    onehot_cli[x] = tmp"
   ]
  },
  {
   "cell_type": "markdown",
   "metadata": {},
   "source": [
    "# Construction of Multimodal Graphs"
   ]
  },
  {
   "cell_type": "code",
   "execution_count": null,
   "metadata": {},
   "outputs": [],
   "source": [
    "feature_img = {}\n",
    "feature_rna = {}\n",
    "feature_cli = {}\n",
    "data_type = {}\n",
    "for x in patients:\n",
    "    f_img = []\n",
    "    f_rna = []\n",
    "    f_cli = []\n",
    "    t_type = []\n",
    "    if x in t_img_fea:\n",
    "        for z in t_img_fea[x]:\n",
    "            f_img.append(t_img_fea[x][z])\n",
    "        t_type.append('img')\n",
    "    if x in rna_fea_1024:   \n",
    "        for r in rna_fea_1024[x]:\n",
    "            f_rna.append(r) \n",
    "        t_type.append('rna')\n",
    "    if x in  onehot_cli:       \n",
    "        for r in onehot_cli[x]:\n",
    "            f_cli.append(r) \n",
    "        t_type.append('cli')\n",
    "    data_type[x]=t_type\n",
    "    feature_img[x] = f_img\n",
    "    feature_rna[x] = f_rna\n",
    "    feature_cli[x] = f_cli"
   ]
  },
  {
   "cell_type": "code",
   "execution_count": 16,
   "metadata": {},
   "outputs": [],
   "source": [
    "def get_edge_index_image(id):    \n",
    "    start = []\n",
    "    end = []    \n",
    "    if id in t_img_fea:\n",
    "        patch_id = {}\n",
    "        i=0\n",
    "        for x in t_img_fea[id]:\n",
    "            patch_id[x.split('.')[0]] = i\n",
    "            i+=1\n",
    "    #     print(patch_id)\n",
    "        for x in patch_id:\n",
    "    #         print(x)\n",
    "            i = int(x.split('-')[0])\n",
    "            j = int(x.split('.')[0].split('-')[1])\n",
    "            if str(i)+'-'+str(j+1) in patch_id:\n",
    "                start.append(patch_id[str(i)+'-'+str(j)])\n",
    "                end.append(patch_id[str(i)+'-'+str(j+1)])\n",
    "            if str(i)+'-'+str(j-1) in patch_id:\n",
    "                start.append(patch_id[str(i)+'-'+str(j)])\n",
    "                end.append(patch_id[str(i)+'-'+str(j-1)])\n",
    "            if str(i+1)+'-'+str(j) in patch_id:\n",
    "                start.append(patch_id[str(i)+'-'+str(j)])\n",
    "                end.append(patch_id[str(i+1)+'-'+str(j)])\n",
    "            if str(i-1)+'-'+str(j) in patch_id:\n",
    "                start.append(patch_id[str(i)+'-'+str(j)])\n",
    "                end.append(patch_id[str(i-1)+'-'+str(j)])\n",
    "            if str(i+1)+'-'+str(j+1) in patch_id:\n",
    "                start.append(patch_id[str(i)+'-'+str(j)])\n",
    "                end.append(patch_id[str(i+1)+'-'+str(j+1)])\n",
    "            if str(i-1)+'-'+str(j+1) in patch_id:\n",
    "                start.append(patch_id[str(i)+'-'+str(j)])\n",
    "                end.append(patch_id[str(i-1)+'-'+str(j+1)])\n",
    "            if str(i+1)+'-'+str(j-1) in patch_id:\n",
    "                start.append(patch_id[str(i)+'-'+str(j)])\n",
    "                end.append(patch_id[str(i+1)+'-'+str(j-1)])\n",
    "            if str(i-1)+'-'+str(j-1) in patch_id:\n",
    "                start.append(patch_id[str(i)+'-'+str(j)])\n",
    "                end.append(patch_id[str(i-1)+'-'+str(j-1)])\n",
    "\n",
    "    return [start,end]  "
   ]
  },
  {
   "cell_type": "code",
   "execution_count": null,
   "metadata": {},
   "outputs": [],
   "source": [
    "def get_edge_index_rna(id):   \n",
    "    start = []\n",
    "    end = []  \n",
    "    if id in t_rna_fea:\n",
    "        for i in range(len(feature_rna[id])):\n",
    "            for j in range(len(feature_rna[id])):\n",
    "                if i!=j:\n",
    "                    start.append(j)\n",
    "                    end.append(i)\n",
    "    return [start,end]  "
   ]
  },
  {
   "cell_type": "code",
   "execution_count": null,
   "metadata": {},
   "outputs": [],
   "source": [
    "def get_edge_index_cli(id):   \n",
    "    start = []\n",
    "    end = []   \n",
    "    if id in t_cli_feas:\n",
    "        for i in range(len(feature_cli[id])):\n",
    "            for j in range(len(feature_cli[id])):\n",
    "                if i!=j:\n",
    "                    start.append(j)\n",
    "                    end.append(i)\n",
    "    return [start,end]  "
   ]
  },
  {
   "cell_type": "code",
   "execution_count": null,
   "metadata": {},
   "outputs": [],
   "source": [
    "all_data = {}\n",
    "for id in patients:\n",
    "    print(id)\n",
    "    node_img=torch.tensor(feature_img[id],dtype=torch.float)\n",
    "    node_rna=torch.tensor(feature_rna[id],dtype=torch.float)\n",
    "    node_cli=torch.tensor(feature_cli[id],dtype=torch.float)\n",
    "    edge_index_model = torch.tensor(get_edge_index_model(id),dtype=torch.long)\n",
    "    edge_index_rna = torch.tensor(get_edge_index_rna(id),dtype=torch.long)\n",
    "    edge_index_cli = torch.tensor(get_edge_index_cli(id),dtype=torch.long)\n",
    "    sur_type=torch.tensor([patient_sur_type[id]])\n",
    "    data_id = id \n",
    "    t_data_type = data_type[id]\n",
    "    data=Data(x_img=node_img,x_rna=node_rna,x_cli=node_cli,sur_type=sur_type,data_id=data_id,data_type=t_data_type,edge_index_model=edge_index_model,edge_index_image=edge_index_image,edge_index_rna=edge_index_rna,edge_index_cli=edge_index_cli) \n",
    "    all_data[id] = data\n",
    "    print(data)\n",
    "    "
   ]
  },
  {
   "cell_type": "code",
   "execution_count": null,
   "metadata": {},
   "outputs": [],
   "source": [
    "'''\n",
    "Data(x_img=[1406, 1024], x_rna=[5, 1024], x_cli=[10, 1024], sur_type=[1], data_id='TCGA-2H-A9GQ', data_type=[3], edge_index_image=[2, 9550], edge_index_rna=[2, 20], edge_index_cli=[2, 90])\n",
   "Data(x_img=[1127, 1024], x_rna=[5, 1024], x_cli=[10, 1024], sur_type=[1], data_id='TCGA-L5-A4OH', data_type=[3], edge_index_image=[2, 8334], edge_index_rna=[2, 20], edge_index_cli=[2, 90])\n",
    "'''\n",
    "joblib.dump(all_data,'all_data.pkl')"
   ]
  }
 ],
 "metadata": {
  "kernelspec": {
   "display_name": "pylcx",
   "language": "python",
   "name": "pylcx"
  },
  "language_info": {
   "codemirror_mode": {
    "name": "ipython",
    "version": 3
   },
   "file_extension": ".py",
   "mimetype": "text/x-python",
   "name": "python",
   "nbconvert_exporter": "python",
   "pygments_lexer": "ipython3",
   "version": "3.9.9"
  }
 },
 "nbformat": 4,
 "nbformat_minor": 2
}
